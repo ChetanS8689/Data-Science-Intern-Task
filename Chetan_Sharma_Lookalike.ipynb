{
 "cells": [
  {
   "cell_type": "code",
   "execution_count": 2,
   "id": "814c2810-3f88-456c-bac2-56aecf43cb0a",
   "metadata": {},
   "outputs": [],
   "source": [
    "import pandas as pd\n",
    "from sklearn.metrics.pairwise import cosine_similarity\n",
    "from sklearn.preprocessing import StandardScaler"
   ]
  },
  {
   "cell_type": "code",
   "execution_count": 6,
   "id": "02047c8a-7b17-48fd-8294-f2c5ff36d519",
   "metadata": {},
   "outputs": [],
   "source": [
    "# Load Datasets\n",
    "transactions_df = pd.read_csv('Transactions.csv')\n",
    "products_df = pd.read_csv('Products.csv')\n",
    "customers_df = pd.read_csv('Customers.csv')"
   ]
  },
  {
   "cell_type": "code",
   "execution_count": 8,
   "id": "34de1670-c287-47a9-bfae-c240d49aba11",
   "metadata": {},
   "outputs": [],
   "source": [
    "merged_df = pd.merge(transactions_df, products_df, on='ProductID', suffixes=('_transaction', '_product'))\n",
    "\n",
    "if 'Price_transaction' in merged_df.columns:\n",
    "    merged_df['Price'] = merged_df['Price_transaction']\n",
    "elif 'Price_product' in merged_df.columns:\n",
    "    merged_df['Price'] = merged_df['Price_product']\n",
    "\n"
   ]
  },
  {
   "cell_type": "code",
   "execution_count": 9,
   "id": "4a547300-1ba2-404c-9e45-8a6828ef128e",
   "metadata": {},
   "outputs": [],
   "source": [
    "# Drop redundant columns\n",
    "merged_df.drop(columns=['Price_transaction', 'Price_product'], errors='ignore', inplace=True)\n"
   ]
  },
  {
   "cell_type": "code",
   "execution_count": 10,
   "id": "86673b02-9aff-4800-99fb-84e62c52e0b7",
   "metadata": {},
   "outputs": [],
   "source": [
    "#  Aggregate Data Per Customer\n",
    "# Aggregate transaction history and product details per customer\n",
    "customer_product_df = merged_df.groupby(['CustomerID', 'ProductID']).agg({\n",
    "    'Quantity': 'sum',\n",
    "    'Price': 'mean',\n",
    "    'Category': 'first'\n",
    "}).reset_index()\n",
    "\n",
    "# One-hot encode categorical features (e.g., Category)\n",
    "customer_product_df = pd.get_dummies(customer_product_df, columns=['Category'], drop_first=True)\n",
    "\n",
    "\n"
   ]
  },
  {
   "cell_type": "code",
   "execution_count": 40,
   "id": "6d5ad385-3659-441b-8db2-b004524686a9",
   "metadata": {},
   "outputs": [
    {
     "name": "stdout",
     "output_type": "stream",
     "text": [
      "['TransactionID', 'CustomerID', 'ProductID', 'TransactionDate', 'Quantity', 'TotalValue', 'Price']\n"
     ]
    }
   ],
   "source": [
    "import pandas as pd\n",
    "\n",
    "# Load the Transactions dataset\n",
    "transactions_df = pd.read_csv('Transactions.csv')\n",
    "\n",
    "# Print the column names\n",
    "print(transactions_df.columns.tolist())\n"
   ]
  },
  {
   "cell_type": "code",
   "execution_count": 11,
   "id": "5927dda6-331e-49ba-9206-5bb9d581017d",
   "metadata": {},
   "outputs": [],
   "source": [
    " #Prepare Data for Similarity Computation\n",
    "pivot_table = customer_product_df.pivot_table(\n",
    "    index='CustomerID',\n",
    "    columns='ProductID',\n",
    "    values='Quantity',\n",
    "    fill_value=0\n",
    ")\n"
   ]
  },
  {
   "cell_type": "code",
   "execution_count": 12,
   "id": "1f9eabb5-b0a9-4345-926a-8757bfd6c3ff",
   "metadata": {},
   "outputs": [],
   "source": [
    "# Standardize the pivot table\n",
    "scaler = StandardScaler()\n",
    "scaled_pivot = scaler.fit_transform(pivot_table)\n",
    "scaled_pivot_df = pd.DataFrame(scaled_pivot, index=pivot_table.index, columns=pivot_table.columns)\n"
   ]
  },
  {
   "cell_type": "code",
   "execution_count": 13,
   "id": "836ac6ed-d910-489d-8cdd-a669324ebd68",
   "metadata": {},
   "outputs": [],
   "source": [
    "# Compute cosine similarity between all customers\n",
    "similarity_matrix = cosine_similarity(scaled_pivot_df)"
   ]
  },
  {
   "cell_type": "code",
   "execution_count": 14,
   "id": "0500bc95-a176-434a-8c5c-e9c58e137551",
   "metadata": {},
   "outputs": [],
   "source": [
    "similarity_df = pd.DataFrame(similarity_matrix, index=pivot_table.index, columns=pivot_table.index)\n"
   ]
  },
  {
   "cell_type": "code",
   "execution_count": 15,
   "id": "43c1ff77-b7fb-4c47-bdb4-24f7b4cca0a9",
   "metadata": {},
   "outputs": [],
   "source": [
    "# Step 6: Generate Lookalike Recommendations\n",
    "# Function to find top-N similar customers\n",
    "def get_top_n_similar(customers, similarity_df, top_n=3):\n",
    "    lookalike_map = {}\n",
    "    for customer_id in customers:\n",
    "        similar_customers = similarity_df.loc[customer_id].sort_values(ascending=False).iloc[1:top_n + 1]\n",
    "        lookalike_map[customer_id] = list(zip(similar_customers.index, similar_customers.values))\n",
    "    return lookalike_map\n",
    "\n",
    "# Get top-3 similar customers for the first 20 customers\n",
    "top_20_customers = customers_df.loc[customers_df['CustomerID'].isin([f'C{str(i).zfill(4)}' for i in range(1, 21)])]\n",
    "lookalike_map = get_top_n_similar(top_20_customers['CustomerID'], similarity_df, top_n=3)\n"
   ]
  },
  {
   "cell_type": "code",
   "execution_count": 16,
   "id": "4c239c4b-b23e-4e2e-b44b-b3c99f1d8442",
   "metadata": {},
   "outputs": [],
   "source": [
    "# Convert lookalike map to required format and save\n",
    "output_data = [{'CustomerID': k, 'Lookalikes': v} for k, v in lookalike_map.items()]\n",
    "lookalike_df = pd.DataFrame(output_data)\n",
    "lookalike_df.to_csv('Lookalike.csv', index=False)\n"
   ]
  },
  {
   "cell_type": "code",
   "execution_count": 17,
   "id": "bf104577-90c8-43f9-9566-d1ae259fb823",
   "metadata": {},
   "outputs": [
    {
     "name": "stdout",
     "output_type": "stream",
     "text": [
      "Lookalike recommendations saved to 'Lookalike.csv'. Here are the first few rows:\n",
      "  CustomerID                                         Lookalikes\n",
      "0      C0001  [(C0194, 0.40492753118932323), (C0104, 0.37400...\n",
      "1      C0002  [(C0030, 0.40461685378594076), (C0091, 0.38377...\n",
      "2      C0003  [(C0181, 0.4775717980039305), (C0134, 0.471016...\n",
      "3      C0004  [(C0070, 0.3519014889798192), (C0175, 0.316097...\n",
      "4      C0005  [(C0096, 0.48745613929263704), (C0023, 0.47025...\n"
     ]
    }
   ],
   "source": [
    "# Output\n",
    "print(\"Lookalike recommendations saved to 'Lookalike.csv'. Here are the first few rows:\")\n",
    "print(lookalike_df.head())"
   ]
  },
  {
   "cell_type": "code",
   "execution_count": null,
   "id": "498077ce-2fd4-48ff-b374-f4a6cff58cea",
   "metadata": {},
   "outputs": [],
   "source": []
  }
 ],
 "metadata": {
  "kernelspec": {
   "display_name": "Python 3 (ipykernel)",
   "language": "python",
   "name": "python3"
  },
  "language_info": {
   "codemirror_mode": {
    "name": "ipython",
    "version": 3
   },
   "file_extension": ".py",
   "mimetype": "text/x-python",
   "name": "python",
   "nbconvert_exporter": "python",
   "pygments_lexer": "ipython3",
   "version": "3.12.7"
  }
 },
 "nbformat": 4,
 "nbformat_minor": 5
}
